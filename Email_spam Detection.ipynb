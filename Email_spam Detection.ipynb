{
 "cells": [
  {
   "cell_type": "markdown",
   "id": "83f189bf",
   "metadata": {},
   "source": [
    "# Email Spam Detection<a class=\"anchor\"  id=\"3\"></a>\n",
    "\n",
    "<img src=\"email.jpg\" alt=\"Alt Text\" width=\"600\" height=\"50\" align=\"center\">\n",
    " "
   ]
  },
  {
   "cell_type": "markdown",
   "id": "c9f7f8c0",
   "metadata": {},
   "source": [
    "# Task 4 Email Spam Detection\n",
    "## Project Overview:\n",
    "\n",
    "#### Build a machine learning model to classify emails as \"spam\" or \"ham.\" Clean and preprocess the dataset, convert text to numerical features using TF-IDF, and train multiple models. Evaluate models based on metrics like accuracy, precision, and recall. Visualize results using a confusion matrix and classification report. This project showcases automated email classification for improved communication management."
   ]
  },
  {
   "cell_type": "markdown",
   "id": "660f7474",
   "metadata": {},
   "source": [
    "# 1. Loading, data explorating and preprocessing<a class=\"anchor\" id=\"1\"></a>"
   ]
  },
  {
   "cell_type": "code",
   "execution_count": 1,
   "id": "cee21823",
   "metadata": {},
   "outputs": [],
   "source": [
    "import numpy as np\n",
    "import pandas as pd\n",
    "import matplotlib.pyplot as plt\n",
    "import seaborn as sns\n",
    "import re\n",
    "import nltk\n",
    "from nltk.corpus import stopwords\n",
    "from sklearn.feature_extraction.text import CountVectorizer, TfidfVectorizer\n",
    "from sklearn.model_selection import train_test_split\n",
    "from sklearn.naive_bayes import GaussianNB, MultinomialNB\n",
    "from xgboost import XGBClassifier\n",
    "from sklearn.tree import DecisionTreeClassifier\n",
    "from sklearn.ensemble import RandomForestClassifier, GradientBoostingClassifier\n",
    "from sklearn.linear_model import LogisticRegression\n",
    "from sklearn.neighbors import KNeighborsClassifier\n",
    "from sklearn.svm import LinearSVC, SVC\n",
    "from time import perf_counter\n",
    "import warnings\n",
    "warnings.filterwarnings(action='ignore')\n",
    "from sklearn.metrics import precision_score, recall_score, accuracy_score, f1_score, confusion_matrix, ConfusionMatrixDisplay, PrecisionRecallDisplay"
   ]
  },
  {
   "cell_type": "code",
   "execution_count": 3,
   "id": "dcb192f1",
   "metadata": {},
   "outputs": [],
   "source": [
    "df = pd.read_csv(\"spam_ham_dataset.csv\")"
   ]
  },
  {
   "cell_type": "code",
   "execution_count": 4,
   "id": "0f985606",
   "metadata": {
    "scrolled": true
   },
   "outputs": [
    {
     "data": {
      "text/html": [
       "<div>\n",
       "<style scoped>\n",
       "    .dataframe tbody tr th:only-of-type {\n",
       "        vertical-align: middle;\n",
       "    }\n",
       "\n",
       "    .dataframe tbody tr th {\n",
       "        vertical-align: top;\n",
       "    }\n",
       "\n",
       "    .dataframe thead th {\n",
       "        text-align: right;\n",
       "    }\n",
       "</style>\n",
       "<table border=\"1\" class=\"dataframe\">\n",
       "  <thead>\n",
       "    <tr style=\"text-align: right;\">\n",
       "      <th></th>\n",
       "      <th>Unnamed: 0</th>\n",
       "      <th>label</th>\n",
       "      <th>text</th>\n",
       "      <th>label_num</th>\n",
       "    </tr>\n",
       "  </thead>\n",
       "  <tbody>\n",
       "    <tr>\n",
       "      <th>0</th>\n",
       "      <td>605</td>\n",
       "      <td>ham</td>\n",
       "      <td>Subject: enron methanol ; meter # : 988291\\r\\n...</td>\n",
       "      <td>0</td>\n",
       "    </tr>\n",
       "    <tr>\n",
       "      <th>1</th>\n",
       "      <td>2349</td>\n",
       "      <td>ham</td>\n",
       "      <td>Subject: hpl nom for january 9 , 2001\\r\\n( see...</td>\n",
       "      <td>0</td>\n",
       "    </tr>\n",
       "    <tr>\n",
       "      <th>2</th>\n",
       "      <td>3624</td>\n",
       "      <td>ham</td>\n",
       "      <td>Subject: neon retreat\\r\\nho ho ho , we ' re ar...</td>\n",
       "      <td>0</td>\n",
       "    </tr>\n",
       "    <tr>\n",
       "      <th>3</th>\n",
       "      <td>4685</td>\n",
       "      <td>spam</td>\n",
       "      <td>Subject: photoshop , windows , office . cheap ...</td>\n",
       "      <td>1</td>\n",
       "    </tr>\n",
       "    <tr>\n",
       "      <th>4</th>\n",
       "      <td>2030</td>\n",
       "      <td>ham</td>\n",
       "      <td>Subject: re : indian springs\\r\\nthis deal is t...</td>\n",
       "      <td>0</td>\n",
       "    </tr>\n",
       "  </tbody>\n",
       "</table>\n",
       "</div>"
      ],
      "text/plain": [
       "   Unnamed: 0 label                                               text  \\\n",
       "0         605   ham  Subject: enron methanol ; meter # : 988291\\r\\n...   \n",
       "1        2349   ham  Subject: hpl nom for january 9 , 2001\\r\\n( see...   \n",
       "2        3624   ham  Subject: neon retreat\\r\\nho ho ho , we ' re ar...   \n",
       "3        4685  spam  Subject: photoshop , windows , office . cheap ...   \n",
       "4        2030   ham  Subject: re : indian springs\\r\\nthis deal is t...   \n",
       "\n",
       "   label_num  \n",
       "0          0  \n",
       "1          0  \n",
       "2          0  \n",
       "3          1  \n",
       "4          0  "
      ]
     },
     "execution_count": 4,
     "metadata": {},
     "output_type": "execute_result"
    }
   ],
   "source": [
    "df.head()"
   ]
  },
  {
   "cell_type": "code",
   "execution_count": 5,
   "id": "b82921e2",
   "metadata": {},
   "outputs": [
    {
     "data": {
      "text/plain": [
       "(5171, 4)"
      ]
     },
     "execution_count": 5,
     "metadata": {},
     "output_type": "execute_result"
    }
   ],
   "source": [
    "df.shape"
   ]
  },
  {
   "cell_type": "code",
   "execution_count": 6,
   "id": "879264ff",
   "metadata": {},
   "outputs": [],
   "source": [
    "df1 = df.drop(\"Unnamed: 0\",axis=1)"
   ]
  },
  {
   "cell_type": "code",
   "execution_count": 7,
   "id": "bb4e98b6",
   "metadata": {
    "scrolled": true
   },
   "outputs": [
    {
     "data": {
      "text/html": [
       "<div>\n",
       "<style scoped>\n",
       "    .dataframe tbody tr th:only-of-type {\n",
       "        vertical-align: middle;\n",
       "    }\n",
       "\n",
       "    .dataframe tbody tr th {\n",
       "        vertical-align: top;\n",
       "    }\n",
       "\n",
       "    .dataframe thead th {\n",
       "        text-align: right;\n",
       "    }\n",
       "</style>\n",
       "<table border=\"1\" class=\"dataframe\">\n",
       "  <thead>\n",
       "    <tr style=\"text-align: right;\">\n",
       "      <th></th>\n",
       "      <th>label</th>\n",
       "      <th>text</th>\n",
       "      <th>label_num</th>\n",
       "    </tr>\n",
       "  </thead>\n",
       "  <tbody>\n",
       "    <tr>\n",
       "      <th>0</th>\n",
       "      <td>ham</td>\n",
       "      <td>Subject: enron methanol ; meter # : 988291\\r\\n...</td>\n",
       "      <td>0</td>\n",
       "    </tr>\n",
       "    <tr>\n",
       "      <th>1</th>\n",
       "      <td>ham</td>\n",
       "      <td>Subject: hpl nom for january 9 , 2001\\r\\n( see...</td>\n",
       "      <td>0</td>\n",
       "    </tr>\n",
       "    <tr>\n",
       "      <th>2</th>\n",
       "      <td>ham</td>\n",
       "      <td>Subject: neon retreat\\r\\nho ho ho , we ' re ar...</td>\n",
       "      <td>0</td>\n",
       "    </tr>\n",
       "    <tr>\n",
       "      <th>3</th>\n",
       "      <td>spam</td>\n",
       "      <td>Subject: photoshop , windows , office . cheap ...</td>\n",
       "      <td>1</td>\n",
       "    </tr>\n",
       "    <tr>\n",
       "      <th>4</th>\n",
       "      <td>ham</td>\n",
       "      <td>Subject: re : indian springs\\r\\nthis deal is t...</td>\n",
       "      <td>0</td>\n",
       "    </tr>\n",
       "  </tbody>\n",
       "</table>\n",
       "</div>"
      ],
      "text/plain": [
       "  label                                               text  label_num\n",
       "0   ham  Subject: enron methanol ; meter # : 988291\\r\\n...          0\n",
       "1   ham  Subject: hpl nom for january 9 , 2001\\r\\n( see...          0\n",
       "2   ham  Subject: neon retreat\\r\\nho ho ho , we ' re ar...          0\n",
       "3  spam  Subject: photoshop , windows , office . cheap ...          1\n",
       "4   ham  Subject: re : indian springs\\r\\nthis deal is t...          0"
      ]
     },
     "execution_count": 7,
     "metadata": {},
     "output_type": "execute_result"
    }
   ],
   "source": [
    "df1.head()"
   ]
  },
  {
   "cell_type": "code",
   "execution_count": 8,
   "id": "64566078",
   "metadata": {},
   "outputs": [
    {
     "data": {
      "text/plain": [
       "\"Subject: enron methanol ; meter # : 988291\\r\\nthis is a follow up to the note i gave you on monday , 4 / 3 / 00 { preliminary\\r\\nflow data provided by daren } .\\r\\nplease override pop ' s daily volume { presently zero } to reflect daily\\r\\nactivity you can obtain from gas control .\\r\\nthis change is needed asap for economics purposes .\""
      ]
     },
     "execution_count": 8,
     "metadata": {},
     "output_type": "execute_result"
    }
   ],
   "source": [
    "df1[\"text\"][0]"
   ]
  },
  {
   "cell_type": "markdown",
   "id": "2dc88096",
   "metadata": {},
   "source": [
    "##### The raw E-Mails have a lot of characters beside of the ones of the alphabet, which might provoke issues later. Therefore, the E-Mails will be cleaned."
   ]
  },
  {
   "cell_type": "code",
   "execution_count": 10,
   "id": "111285a6",
   "metadata": {},
   "outputs": [],
   "source": [
    "from nltk.tokenize import RegexpTokenizer\n",
    "\n",
    "def clean_text(text, reg = RegexpTokenizer(r'[a-z]+')):\n",
    "    # Clean a text with RegexpTokenizer\n",
    "    text = text.lower()\n",
    "    tokens = reg.tokenize(text)\n",
    "    return \" \".join(tokens)"
   ]
  },
  {
   "cell_type": "code",
   "execution_count": 11,
   "id": "5a186c7d",
   "metadata": {},
   "outputs": [
    {
     "name": "stdout",
     "output_type": "stream",
     "text": [
      "Before cleaning:\n"
     ]
    },
    {
     "data": {
      "text/plain": [
       "\"Subject: enron methanol ; meter # : 988291\\r\\nthis is a follow up to the note i gave you on monday , 4 / 3 / 00 { preliminary\\r\\nflow data provided by daren } .\\r\\nplease override pop ' s daily volume { presently zero } to reflect daily\\r\\nactivity you can obtain from gas control .\\r\\nthis change is needed asap for economics purposes .\""
      ]
     },
     "execution_count": 11,
     "metadata": {},
     "output_type": "execute_result"
    }
   ],
   "source": [
    "print('Before cleaning:')\n",
    "df1['text'][0]"
   ]
  },
  {
   "cell_type": "code",
   "execution_count": 12,
   "id": "700bd0f1",
   "metadata": {
    "scrolled": false
   },
   "outputs": [
    {
     "name": "stdout",
     "output_type": "stream",
     "text": [
      "After cleaning:\n"
     ]
    },
    {
     "data": {
      "text/plain": [
       "'subject enron methanol meter this is a follow up to the note i gave you on monday preliminary flow data provided by daren please override pop s daily volume presently zero to reflect daily activity you can obtain from gas control this change is needed asap for economics purposes'"
      ]
     },
     "execution_count": 12,
     "metadata": {},
     "output_type": "execute_result"
    }
   ],
   "source": [
    "print('After cleaning:')\n",
    "clean_text(df1['text'][0])"
   ]
  },
  {
   "cell_type": "code",
   "execution_count": 13,
   "id": "e5771fc4",
   "metadata": {},
   "outputs": [
    {
     "data": {
      "text/html": [
       "<div>\n",
       "<style scoped>\n",
       "    .dataframe tbody tr th:only-of-type {\n",
       "        vertical-align: middle;\n",
       "    }\n",
       "\n",
       "    .dataframe tbody tr th {\n",
       "        vertical-align: top;\n",
       "    }\n",
       "\n",
       "    .dataframe thead th {\n",
       "        text-align: right;\n",
       "    }\n",
       "</style>\n",
       "<table border=\"1\" class=\"dataframe\">\n",
       "  <thead>\n",
       "    <tr style=\"text-align: right;\">\n",
       "      <th></th>\n",
       "      <th>label</th>\n",
       "      <th>text</th>\n",
       "      <th>label_num</th>\n",
       "      <th>text_cleaned</th>\n",
       "    </tr>\n",
       "  </thead>\n",
       "  <tbody>\n",
       "    <tr>\n",
       "      <th>0</th>\n",
       "      <td>ham</td>\n",
       "      <td>Subject: enron methanol ; meter # : 988291\\r\\n...</td>\n",
       "      <td>0</td>\n",
       "      <td>subject enron methanol meter this is a follow ...</td>\n",
       "    </tr>\n",
       "    <tr>\n",
       "      <th>1</th>\n",
       "      <td>ham</td>\n",
       "      <td>Subject: hpl nom for january 9 , 2001\\r\\n( see...</td>\n",
       "      <td>0</td>\n",
       "      <td>subject hpl nom for january see attached file ...</td>\n",
       "    </tr>\n",
       "    <tr>\n",
       "      <th>2</th>\n",
       "      <td>ham</td>\n",
       "      <td>Subject: neon retreat\\r\\nho ho ho , we ' re ar...</td>\n",
       "      <td>0</td>\n",
       "      <td>subject neon retreat ho ho ho we re around to ...</td>\n",
       "    </tr>\n",
       "    <tr>\n",
       "      <th>3</th>\n",
       "      <td>spam</td>\n",
       "      <td>Subject: photoshop , windows , office . cheap ...</td>\n",
       "      <td>1</td>\n",
       "      <td>subject photoshop windows office cheap main tr...</td>\n",
       "    </tr>\n",
       "    <tr>\n",
       "      <th>4</th>\n",
       "      <td>ham</td>\n",
       "      <td>Subject: re : indian springs\\r\\nthis deal is t...</td>\n",
       "      <td>0</td>\n",
       "      <td>subject re indian springs this deal is to book...</td>\n",
       "    </tr>\n",
       "  </tbody>\n",
       "</table>\n",
       "</div>"
      ],
      "text/plain": [
       "  label                                               text  label_num  \\\n",
       "0   ham  Subject: enron methanol ; meter # : 988291\\r\\n...          0   \n",
       "1   ham  Subject: hpl nom for january 9 , 2001\\r\\n( see...          0   \n",
       "2   ham  Subject: neon retreat\\r\\nho ho ho , we ' re ar...          0   \n",
       "3  spam  Subject: photoshop , windows , office . cheap ...          1   \n",
       "4   ham  Subject: re : indian springs\\r\\nthis deal is t...          0   \n",
       "\n",
       "                                        text_cleaned  \n",
       "0  subject enron methanol meter this is a follow ...  \n",
       "1  subject hpl nom for january see attached file ...  \n",
       "2  subject neon retreat ho ho ho we re around to ...  \n",
       "3  subject photoshop windows office cheap main tr...  \n",
       "4  subject re indian springs this deal is to book...  "
      ]
     },
     "execution_count": 13,
     "metadata": {},
     "output_type": "execute_result"
    }
   ],
   "source": [
    "# Create a new column with the cleaned messages\n",
    "df1['text_cleaned'] = df1['text'].apply(lambda text: clean_text(text))\n",
    "\n",
    "# Display the result\n",
    "df1.head()"
   ]
  },
  {
   "cell_type": "markdown",
   "id": "a362facc",
   "metadata": {},
   "source": [
    "## Handling Class Imbalance:"
   ]
  },
  {
   "cell_type": "code",
   "execution_count": 14,
   "id": "4060c0fb",
   "metadata": {
    "scrolled": true
   },
   "outputs": [
    {
     "data": {
      "text/plain": [
       "ham     3672\n",
       "spam    1499\n",
       "Name: label, dtype: int64"
      ]
     },
     "execution_count": 14,
     "metadata": {},
     "output_type": "execute_result"
    }
   ],
   "source": [
    "df1[\"label\"].value_counts()"
   ]
  },
  {
   "cell_type": "code",
   "execution_count": 15,
   "id": "cb7343db",
   "metadata": {},
   "outputs": [
    {
     "data": {
      "image/png": "[encoded data removed]",
      "text/plain": [
       "<Figure size 600x400 with 1 Axes>"
      ]
     },
     "metadata": {},
     "output_type": "display_data"
    }
   ],
   "source": [
    "import matplotlib.pyplot as plt\n",
    "import seaborn as sns\n",
    "\n",
    "plt.figure(figsize=(6, 4))\n",
    "sns.countplot(data=df1, x='label')\n",
    "plt.title('Class Distribution')\n",
    "plt.show()"
   ]
  },
  {
   "cell_type": "markdown",
   "id": "921229d3",
   "metadata": {},
   "source": [
    "## Text Vectorization"
   ]
  },
  {
   "cell_type": "code",
   "execution_count": 52,
   "id": "bc4b7b47",
   "metadata": {},
   "outputs": [],
   "source": [
    "tfidf_vectorizer = TfidfVectorizer(max_features=5000)  # You can adjust max_features\n",
    "X = tfidf_vectorizer.fit_transform(df1['text_cleaned']).toarray()\n",
    "y = df1['label_num']"
   ]
  },
  {
   "cell_type": "code",
   "execution_count": 17,
   "id": "a8698ab3",
   "metadata": {},
   "outputs": [
    {
     "name": "stdout",
     "output_type": "stream",
     "text": [
      "Class distribution before SMOTE: Counter({0: 3672, 1: 1499})\n",
      "Class distribution after SMOTE: Counter({0: 3672, 1: 3672})\n"
     ]
    }
   ],
   "source": [
    "from imblearn.over_sampling import SMOTE\n",
    "from collections import Counter\n",
    "\n",
    "# Check class distribution before applying SMOTE\n",
    "print(\"Class distribution before SMOTE:\", Counter(y))\n",
    "\n",
    "# Apply SMOTE to balance the classes\n",
    "smote = SMOTE(random_state=42)\n",
    "X_resampled, y_resampled = smote.fit_resample(X, y)\n",
    "\n",
    "# Check class distribution after applying SMOTE\n",
    "print(\"Class distribution after SMOTE:\", Counter(y_resampled))\n"
   ]
  },
  {
   "cell_type": "code",
   "execution_count": 18,
   "id": "2cb7810b",
   "metadata": {},
   "outputs": [
    {
     "data": {
      "image/png": "[encoded data removed]",
      "text/plain": [
       "<Figure size 600x400 with 1 Axes>"
      ]
     },
     "metadata": {},
     "output_type": "display_data"
    }
   ],
   "source": [
    "import matplotlib.pyplot as plt\n",
    "import seaborn as sns\n",
    "\n",
    "plt.figure(figsize=(6, 4))\n",
    "sns.countplot(data=df1, x=y_resampled)\n",
    "plt.title('Class Distribution')\n",
    "plt.show()"
   ]
  },
  {
   "cell_type": "markdown",
   "id": "3200b334",
   "metadata": {},
   "source": [
    "## Train Test Split"
   ]
  },
  {
   "cell_type": "code",
   "execution_count": 19,
   "id": "72fd702c",
   "metadata": {},
   "outputs": [],
   "source": [
    "# Split arrays or matrices into random train and test subsets\n",
    "X_train, X_test, y_train, y_test = train_test_split(X_resampled, y_resampled, test_size=0.2, random_state=0)"
   ]
  },
  {
   "cell_type": "markdown",
   "id": "86da9f1a",
   "metadata": {},
   "source": [
    "#  Model comparison<a class=\"anchor\" id=\"2\"></a>\n"
   ]
  },
  {
   "cell_type": "code",
   "execution_count": 20,
   "id": "bbef2c5d",
   "metadata": {},
   "outputs": [
    {
     "name": "stdout",
     "output_type": "stream",
     "text": [
      "Random Forest        trained in 16.28 sec\n",
      "Gradient Boosting    trained in 312.22 sec\n",
      "XGBoost              trained in 76.66 sec\n",
      "MultinomialNB        trained in 0.12 sec\n",
      "Logistic Regr.       trained in 2.24 sec\n",
      "KNN                  trained in 0.06 sec\n",
      "Decision Tree        trained in 47.32 sec\n",
      "SVM (Linear)         trained in 0.47 sec\n",
      "SVM (RBF)            trained in 57.19 sec\n"
     ]
    }
   ],
   "source": [
    "models = {\n",
    "    \"Random Forest\": {\"model\":RandomForestClassifier(), \"perf\":0},\n",
    "    \"Gradient Boosting\": {\"model\":GradientBoostingClassifier(), \"perf\":0},\n",
    "    \"XGBoost\": {\"model\":XGBClassifier(eval_metric='mlogloss'), \"perf\":0},\n",
    "    \"MultinomialNB\": {\"model\":MultinomialNB(), \"perf\":0},\n",
    "    \"Logistic Regr.\": {\"model\":LogisticRegression(), \"perf\":0},\n",
    "    \"KNN\": {\"model\":KNeighborsClassifier(), \"perf\":0},\n",
    "    \"Decision Tree\": {\"model\":DecisionTreeClassifier(), \"perf\":0},\n",
    "    \"SVM (Linear)\": {\"model\":LinearSVC(), \"perf\":0},\n",
    "    \"SVM (RBF)\": {\"model\":SVC(), \"perf\":0}\n",
    "}\n",
    "\n",
    "for name, model in models.items():\n",
    "    start = perf_counter()\n",
    "    model['model'].fit(X_train, y_train)\n",
    "    duration = perf_counter() - start\n",
    "    duration = round(duration,2)\n",
    "    model[\"perf\"] = duration\n",
    "    print(f\"{name:20} trained in {duration} sec\")"
   ]
  },
  {
   "cell_type": "code",
   "execution_count": 25,
   "id": "6e34b649",
   "metadata": {},
   "outputs": [],
   "source": [
    "models_acc = []\n",
    "for name, model in models.items():\n",
    "    models_acc.append([name, model[\"model\"].score(X_test, y_test),model[\"perf\"]])"
   ]
  },
  {
   "cell_type": "code",
   "execution_count": 26,
   "id": "2caa80b3",
   "metadata": {},
   "outputs": [
    {
     "data": {
      "text/html": [
       "<div>\n",
       "<style scoped>\n",
       "    .dataframe tbody tr th:only-of-type {\n",
       "        vertical-align: middle;\n",
       "    }\n",
       "\n",
       "    .dataframe tbody tr th {\n",
       "        vertical-align: top;\n",
       "    }\n",
       "\n",
       "    .dataframe thead th {\n",
       "        text-align: right;\n",
       "    }\n",
       "</style>\n",
       "<table border=\"1\" class=\"dataframe\">\n",
       "  <thead>\n",
       "    <tr style=\"text-align: right;\">\n",
       "      <th></th>\n",
       "      <th>Model</th>\n",
       "      <th>Accuracy w/o scaling</th>\n",
       "      <th>Training time (sec)</th>\n",
       "    </tr>\n",
       "  </thead>\n",
       "  <tbody>\n",
       "    <tr>\n",
       "      <th>0</th>\n",
       "      <td>SVM (RBF)</td>\n",
       "      <td>0.989108</td>\n",
       "      <td>57.19</td>\n",
       "    </tr>\n",
       "    <tr>\n",
       "      <th>1</th>\n",
       "      <td>SVM (Linear)</td>\n",
       "      <td>0.986385</td>\n",
       "      <td>0.47</td>\n",
       "    </tr>\n",
       "    <tr>\n",
       "      <th>2</th>\n",
       "      <td>Logistic Regr.</td>\n",
       "      <td>0.974813</td>\n",
       "      <td>2.24</td>\n",
       "    </tr>\n",
       "    <tr>\n",
       "      <th>3</th>\n",
       "      <td>Random Forest</td>\n",
       "      <td>0.972771</td>\n",
       "      <td>16.28</td>\n",
       "    </tr>\n",
       "    <tr>\n",
       "      <th>4</th>\n",
       "      <td>XGBoost</td>\n",
       "      <td>0.971409</td>\n",
       "      <td>76.66</td>\n",
       "    </tr>\n",
       "    <tr>\n",
       "      <th>5</th>\n",
       "      <td>MultinomialNB</td>\n",
       "      <td>0.965283</td>\n",
       "      <td>0.12</td>\n",
       "    </tr>\n",
       "    <tr>\n",
       "      <th>6</th>\n",
       "      <td>Decision Tree</td>\n",
       "      <td>0.965283</td>\n",
       "      <td>47.32</td>\n",
       "    </tr>\n",
       "    <tr>\n",
       "      <th>7</th>\n",
       "      <td>Gradient Boosting</td>\n",
       "      <td>0.956433</td>\n",
       "      <td>312.22</td>\n",
       "    </tr>\n",
       "    <tr>\n",
       "      <th>8</th>\n",
       "      <td>KNN</td>\n",
       "      <td>0.869299</td>\n",
       "      <td>0.06</td>\n",
       "    </tr>\n",
       "  </tbody>\n",
       "</table>\n",
       "</div>"
      ],
      "text/plain": [
       "               Model  Accuracy w/o scaling  Training time (sec)\n",
       "0          SVM (RBF)              0.989108                57.19\n",
       "1       SVM (Linear)              0.986385                 0.47\n",
       "2     Logistic Regr.              0.974813                 2.24\n",
       "3      Random Forest              0.972771                16.28\n",
       "4            XGBoost              0.971409                76.66\n",
       "5      MultinomialNB              0.965283                 0.12\n",
       "6      Decision Tree              0.965283                47.32\n",
       "7  Gradient Boosting              0.956433               312.22\n",
       "8                KNN              0.869299                 0.06"
      ]
     },
     "execution_count": 26,
     "metadata": {},
     "output_type": "execute_result"
    }
   ],
   "source": [
    "df_acc = pd.DataFrame(models_acc)\n",
    "df_acc.columns = ['Model', 'Accuracy w/o scaling', 'Training time (sec)']\n",
    "df_acc.sort_values(by = 'Accuracy w/o scaling', ascending = False, inplace=True)\n",
    "df_acc.reset_index(drop = True, inplace=True)\n",
    "df_acc"
   ]
  },
  {
   "cell_type": "markdown",
   "id": "b3e1b348",
   "metadata": {},
   "source": [
    "## Confusion Matrix of each model"
   ]
  },
  {
   "cell_type": "code",
   "execution_count": 31,
   "id": "a1ec25a1",
   "metadata": {
    "scrolled": true
   },
   "outputs": [
    {
     "data": {
      "image/png": "[encoded data removed]",
      "text/plain": [
       "<Figure size 1500x1500 with 9 Axes>"
      ]
     },
     "metadata": {},
     "output_type": "display_data"
    }
   ],
   "source": [
    "def plot_confusion_matrix(model, name, ax):\n",
    "    y_pred = model['model'].predict(X_test)  # Replace X_test with your test data\n",
    "    cm = confusion_matrix(y_test, y_pred)\n",
    "    \n",
    "    sns.heatmap(cm, annot=True, fmt='d', cmap='Blues', cbar=False, ax=ax)\n",
    "    ax.set_title(f'Confusion Matrix - {name}')\n",
    "    ax.set_xlabel('Predicted')\n",
    "    ax.set_ylabel('Actual')\n",
    "\n",
    "# Assuming you have trained models and got predictions for each model\n",
    "fig, axes = plt.subplots(num_rows, num_cols, figsize=(15, 5*num_rows))\n",
    "\n",
    "if num_models == 1:\n",
    "    axes = [axes]\n",
    "\n",
    "for (name, model), ax in zip(models.items(), axes.flat):\n",
    "    plot_confusion_matrix(model, name, ax)\n",
    "\n",
    "plt.tight_layout()\n",
    "plt.show()"
   ]
  },
  {
   "cell_type": "markdown",
   "id": "4760b134",
   "metadata": {},
   "source": [
    "## Classification Model of each Model"
   ]
  },
  {
   "cell_type": "code",
   "execution_count": 30,
   "id": "1e2fd403",
   "metadata": {},
   "outputs": [
    {
     "name": "stdout",
     "output_type": "stream",
     "text": [
      "Model: Random Forest\n",
      "Confusion Matrix:\n",
      "[[713  38]\n",
      " [  2 716]]\n",
      "Classification Report:\n",
      "              precision    recall  f1-score   support\n",
      "\n",
      "           0       1.00      0.95      0.97       751\n",
      "           1       0.95      1.00      0.97       718\n",
      "\n",
      "    accuracy                           0.97      1469\n",
      "   macro avg       0.97      0.97      0.97      1469\n",
      "weighted avg       0.97      0.97      0.97      1469\n",
      "\n",
      "==================================================\n",
      "Model: Gradient Boosting\n",
      "Confusion Matrix:\n",
      "[[692  59]\n",
      " [  5 713]]\n",
      "Classification Report:\n",
      "              precision    recall  f1-score   support\n",
      "\n",
      "           0       0.99      0.92      0.96       751\n",
      "           1       0.92      0.99      0.96       718\n",
      "\n",
      "    accuracy                           0.96      1469\n",
      "   macro avg       0.96      0.96      0.96      1469\n",
      "weighted avg       0.96      0.96      0.96      1469\n",
      "\n",
      "==================================================\n",
      "Model: XGBoost\n",
      "Confusion Matrix:\n",
      "[[713  38]\n",
      " [  4 714]]\n",
      "Classification Report:\n",
      "              precision    recall  f1-score   support\n",
      "\n",
      "           0       0.99      0.95      0.97       751\n",
      "           1       0.95      0.99      0.97       718\n",
      "\n",
      "    accuracy                           0.97      1469\n",
      "   macro avg       0.97      0.97      0.97      1469\n",
      "weighted avg       0.97      0.97      0.97      1469\n",
      "\n",
      "==================================================\n",
      "Model: MultinomialNB\n",
      "Confusion Matrix:\n",
      "[[706  45]\n",
      " [  6 712]]\n",
      "Classification Report:\n",
      "              precision    recall  f1-score   support\n",
      "\n",
      "           0       0.99      0.94      0.97       751\n",
      "           1       0.94      0.99      0.97       718\n",
      "\n",
      "    accuracy                           0.97      1469\n",
      "   macro avg       0.97      0.97      0.97      1469\n",
      "weighted avg       0.97      0.97      0.97      1469\n",
      "\n",
      "==================================================\n",
      "Model: Logistic Regr.\n",
      "Confusion Matrix:\n",
      "[[714  37]\n",
      " [  0 718]]\n",
      "Classification Report:\n",
      "              precision    recall  f1-score   support\n",
      "\n",
      "           0       1.00      0.95      0.97       751\n",
      "           1       0.95      1.00      0.97       718\n",
      "\n",
      "    accuracy                           0.97      1469\n",
      "   macro avg       0.98      0.98      0.97      1469\n",
      "weighted avg       0.98      0.97      0.97      1469\n",
      "\n",
      "==================================================\n",
      "Model: KNN\n",
      "Confusion Matrix:\n",
      "[[559 192]\n",
      " [  0 718]]\n",
      "Classification Report:\n",
      "              precision    recall  f1-score   support\n",
      "\n",
      "           0       1.00      0.74      0.85       751\n",
      "           1       0.79      1.00      0.88       718\n",
      "\n",
      "    accuracy                           0.87      1469\n",
      "   macro avg       0.89      0.87      0.87      1469\n",
      "weighted avg       0.90      0.87      0.87      1469\n",
      "\n",
      "==================================================\n",
      "Model: Decision Tree\n",
      "Confusion Matrix:\n",
      "[[712  39]\n",
      " [ 12 706]]\n",
      "Classification Report:\n",
      "              precision    recall  f1-score   support\n",
      "\n",
      "           0       0.98      0.95      0.97       751\n",
      "           1       0.95      0.98      0.97       718\n",
      "\n",
      "    accuracy                           0.97      1469\n",
      "   macro avg       0.97      0.97      0.97      1469\n",
      "weighted avg       0.97      0.97      0.97      1469\n",
      "\n",
      "==================================================\n",
      "Model: SVM (Linear)\n",
      "Confusion Matrix:\n",
      "[[732  19]\n",
      " [  1 717]]\n",
      "Classification Report:\n",
      "              precision    recall  f1-score   support\n",
      "\n",
      "           0       1.00      0.97      0.99       751\n",
      "           1       0.97      1.00      0.99       718\n",
      "\n",
      "    accuracy                           0.99      1469\n",
      "   macro avg       0.99      0.99      0.99      1469\n",
      "weighted avg       0.99      0.99      0.99      1469\n",
      "\n",
      "==================================================\n",
      "Model: SVM (RBF)\n",
      "Confusion Matrix:\n",
      "[[736  15]\n",
      " [  1 717]]\n",
      "Classification Report:\n",
      "              precision    recall  f1-score   support\n",
      "\n",
      "           0       1.00      0.98      0.99       751\n",
      "           1       0.98      1.00      0.99       718\n",
      "\n",
      "    accuracy                           0.99      1469\n",
      "   macro avg       0.99      0.99      0.99      1469\n",
      "weighted avg       0.99      0.99      0.99      1469\n",
      "\n",
      "==================================================\n"
     ]
    }
   ],
   "source": [
    "from sklearn.metrics import classification_report\n",
    "\n",
    "# Assuming you have trained models and got predictions for each model\n",
    "for name, model in models.items():\n",
    "    y_pred = model['model'].predict(X_test)  # Replace X_test with your test data\n",
    "    cm = confusion_matrix(y_test, y_pred)\n",
    "    \n",
    "    print(f\"Model: {name}\")\n",
    "    print(\"Confusion Matrix:\")\n",
    "    print(cm)\n",
    "    \n",
    "    report = classification_report(y_test, y_pred)\n",
    "    print(\"Classification Report:\")\n",
    "    print(report)\n",
    "    print(\"=\" * 50)\n"
   ]
  },
  {
   "cell_type": "code",
   "execution_count": 23,
   "id": "b6b14bed",
   "metadata": {},
   "outputs": [
    {
     "data": {
      "image/png": "[encoded data removed]",
      "text/plain": [
       "<Figure size 1500x500 with 1 Axes>"
      ]
     },
     "metadata": {},
     "output_type": "display_data"
    }
   ],
   "source": [
    "plt.figure(figsize = (15,5))\n",
    "sns.barplot(x = 'Model', y = 'Accuracy w/o scaling', data = df_acc)\n",
    "plt.title('Accuracy on the test set\\n(the Y-Axis is between 0.8 and 1.0)', fontsize = 15)\n",
    "plt.ylim(0.8,1)\n",
    "plt.show()"
   ]
  },
  {
   "cell_type": "code",
   "execution_count": 68,
   "id": "a7c1ce35",
   "metadata": {
    "scrolled": false
   },
   "outputs": [
    {
     "data": {
      "image/png": "[encoded data removed]",
      "text/plain": [
       "<Figure size 1500x500 with 1 Axes>"
      ]
     },
     "metadata": {},
     "output_type": "display_data"
    }
   ],
   "source": [
    "plt.figure(figsize = (15,5))\n",
    "sns.barplot(x = 'Model', y = 'Training time (sec)', data = df_acc)\n",
    "plt.title('Training time for each model in sec', fontsize = 15)\n",
    "plt.ylim(0,50)\n",
    "plt.show()"
   ]
  },
  {
   "cell_type": "markdown",
   "id": "78df03f8",
   "metadata": {},
   "source": [
    "XGBoosting gives the best result on the test set. Nevertheless, MultinomialNB is nearly as good, but is very fast . In the following part, we'll choose the MultinomialNB and try various hyperparameters to optimize it."
   ]
  },
  {
   "cell_type": "code",
   "execution_count": 9,
   "id": "53b20041",
   "metadata": {
    "scrolled": false
   },
   "outputs": [
    {
     "data": {
      "text/html": [
       "<div>\n",
       "<style scoped>\n",
       "    .dataframe tbody tr th:only-of-type {\n",
       "        vertical-align: middle;\n",
       "    }\n",
       "\n",
       "    .dataframe tbody tr th {\n",
       "        vertical-align: top;\n",
       "    }\n",
       "\n",
       "    .dataframe thead th {\n",
       "        text-align: right;\n",
       "    }\n",
       "</style>\n",
       "<table border=\"1\" class=\"dataframe\">\n",
       "  <thead>\n",
       "    <tr style=\"text-align: right;\">\n",
       "      <th></th>\n",
       "      <th>label</th>\n",
       "      <th>text</th>\n",
       "      <th>label_num</th>\n",
       "    </tr>\n",
       "  </thead>\n",
       "  <tbody>\n",
       "    <tr>\n",
       "      <th>0</th>\n",
       "      <td>ham</td>\n",
       "      <td>Subject: enron methanol ; meter # : 988291\\r\\n...</td>\n",
       "      <td>0</td>\n",
       "    </tr>\n",
       "    <tr>\n",
       "      <th>1</th>\n",
       "      <td>ham</td>\n",
       "      <td>Subject: hpl nom for january 9 , 2001\\r\\n( see...</td>\n",
       "      <td>0</td>\n",
       "    </tr>\n",
       "    <tr>\n",
       "      <th>2</th>\n",
       "      <td>ham</td>\n",
       "      <td>Subject: neon retreat\\r\\nho ho ho , we ' re ar...</td>\n",
       "      <td>0</td>\n",
       "    </tr>\n",
       "    <tr>\n",
       "      <th>3</th>\n",
       "      <td>spam</td>\n",
       "      <td>Subject: photoshop , windows , office . cheap ...</td>\n",
       "      <td>1</td>\n",
       "    </tr>\n",
       "    <tr>\n",
       "      <th>4</th>\n",
       "      <td>ham</td>\n",
       "      <td>Subject: re : indian springs\\r\\nthis deal is t...</td>\n",
       "      <td>0</td>\n",
       "    </tr>\n",
       "  </tbody>\n",
       "</table>\n",
       "</div>"
      ],
      "text/plain": [
       "  label                                               text  label_num\n",
       "0   ham  Subject: enron methanol ; meter # : 988291\\r\\n...          0\n",
       "1   ham  Subject: hpl nom for january 9 , 2001\\r\\n( see...          0\n",
       "2   ham  Subject: neon retreat\\r\\nho ho ho , we ' re ar...          0\n",
       "3  spam  Subject: photoshop , windows , office . cheap ...          1\n",
       "4   ham  Subject: re : indian springs\\r\\nthis deal is t...          0"
      ]
     },
     "execution_count": 9,
     "metadata": {},
     "output_type": "execute_result"
    }
   ],
   "source": [
    "df1.head()"
   ]
  },
  {
   "cell_type": "markdown",
   "id": "95a98df6",
   "metadata": {},
   "source": [
    "# 3. Hyperparameter selection for MultinomialNB<a class=\"anchor\" id=\"3\"></a>"
   ]
  },
  {
   "cell_type": "code",
   "execution_count": 34,
   "id": "ec722356",
   "metadata": {},
   "outputs": [
    {
     "data": {
      "text/html": [
       "<div>\n",
       "<style scoped>\n",
       "    .dataframe tbody tr th:only-of-type {\n",
       "        vertical-align: middle;\n",
       "    }\n",
       "\n",
       "    .dataframe tbody tr th {\n",
       "        vertical-align: top;\n",
       "    }\n",
       "\n",
       "    .dataframe thead th {\n",
       "        text-align: right;\n",
       "    }\n",
       "</style>\n",
       "<table border=\"1\" class=\"dataframe\">\n",
       "  <thead>\n",
       "    <tr style=\"text-align: right;\">\n",
       "      <th></th>\n",
       "      <th>params</th>\n",
       "      <th>mean_test_score</th>\n",
       "    </tr>\n",
       "  </thead>\n",
       "  <tbody>\n",
       "    <tr>\n",
       "      <th>0</th>\n",
       "      <td>{'alpha': 0.2, 'fit_prior': True}</td>\n",
       "      <td>0.970383</td>\n",
       "    </tr>\n",
       "    <tr>\n",
       "      <th>1</th>\n",
       "      <td>{'alpha': 0.2, 'fit_prior': False}</td>\n",
       "      <td>0.970383</td>\n",
       "    </tr>\n",
       "    <tr>\n",
       "      <th>3</th>\n",
       "      <td>{'alpha': 1, 'fit_prior': False}</td>\n",
       "      <td>0.966809</td>\n",
       "    </tr>\n",
       "    <tr>\n",
       "      <th>2</th>\n",
       "      <td>{'alpha': 1, 'fit_prior': True}</td>\n",
       "      <td>0.966638</td>\n",
       "    </tr>\n",
       "    <tr>\n",
       "      <th>5</th>\n",
       "      <td>{'alpha': 2, 'fit_prior': False}</td>\n",
       "      <td>0.964766</td>\n",
       "    </tr>\n",
       "    <tr>\n",
       "      <th>4</th>\n",
       "      <td>{'alpha': 2, 'fit_prior': True}</td>\n",
       "      <td>0.964766</td>\n",
       "    </tr>\n",
       "    <tr>\n",
       "      <th>7</th>\n",
       "      <td>{'alpha': 5, 'fit_prior': False}</td>\n",
       "      <td>0.963574</td>\n",
       "    </tr>\n",
       "    <tr>\n",
       "      <th>6</th>\n",
       "      <td>{'alpha': 5, 'fit_prior': True}</td>\n",
       "      <td>0.963234</td>\n",
       "    </tr>\n",
       "    <tr>\n",
       "      <th>9</th>\n",
       "      <td>{'alpha': 10, 'fit_prior': False}</td>\n",
       "      <td>0.962723</td>\n",
       "    </tr>\n",
       "    <tr>\n",
       "      <th>8</th>\n",
       "      <td>{'alpha': 10, 'fit_prior': True}</td>\n",
       "      <td>0.962383</td>\n",
       "    </tr>\n",
       "  </tbody>\n",
       "</table>\n",
       "</div>"
      ],
      "text/plain": [
       "                               params  mean_test_score\n",
       "0   {'alpha': 0.2, 'fit_prior': True}         0.970383\n",
       "1  {'alpha': 0.2, 'fit_prior': False}         0.970383\n",
       "3    {'alpha': 1, 'fit_prior': False}         0.966809\n",
       "2     {'alpha': 1, 'fit_prior': True}         0.966638\n",
       "5    {'alpha': 2, 'fit_prior': False}         0.964766\n",
       "4     {'alpha': 2, 'fit_prior': True}         0.964766\n",
       "7    {'alpha': 5, 'fit_prior': False}         0.963574\n",
       "6     {'alpha': 5, 'fit_prior': True}         0.963234\n",
       "9   {'alpha': 10, 'fit_prior': False}         0.962723\n",
       "8    {'alpha': 10, 'fit_prior': True}         0.962383"
      ]
     },
     "execution_count": 34,
     "metadata": {},
     "output_type": "execute_result"
    }
   ],
   "source": [
    "# Find the best hyperparameter with GridSearchCV\n",
    "# Exhaustive search over specified parameter values for an estimator.\n",
    "from sklearn.naive_bayes import MultinomialNB\n",
    "from sklearn.model_selection import GridSearchCV\n",
    "parameters = {\"alpha\": [0.2,1,2,5,10], \"fit_prior\": [True, False]}\n",
    "\n",
    "grid = GridSearchCV(MultinomialNB(), param_grid=parameters)\n",
    "grid.fit(X_train,y_train)\n",
    "\n",
    "# Create a DataFrame with the best Hyperparameters\n",
    "pd.DataFrame(grid.cv_results_)[['params','mean_test_score']]\\\n",
    "                               .sort_values(by=\"mean_test_score\", ascending=False)"
   ]
  },
  {
   "cell_type": "code",
   "execution_count": 35,
   "id": "fde10b34",
   "metadata": {},
   "outputs": [
    {
     "data": {
      "text/plain": [
       "{'alpha': 0.2, 'fit_prior': True}"
      ]
     },
     "execution_count": 35,
     "metadata": {},
     "output_type": "execute_result"
    }
   ],
   "source": [
    "# Display the best hyperparameters\n",
    "grid.best_params_"
   ]
  },
  {
   "cell_type": "markdown",
   "id": "240b1329",
   "metadata": {},
   "source": [
    "# The MultinomialNB Model<a class=\"anchor\" id=\"4\"></a>"
   ]
  },
  {
   "cell_type": "code",
   "execution_count": 37,
   "id": "aa6b6c8f",
   "metadata": {},
   "outputs": [
    {
     "name": "stdout",
     "output_type": "stream",
     "text": [
      "## Accuracy: 96.89999999999999%\n",
      "\n"
     ]
    }
   ],
   "source": [
    "# Create the model with the best hyperparameters\n",
    "from sklearn.naive_bayes import MultinomialNB\n",
    "alpha, fit_prior = grid.best_params_['alpha'], grid.best_params_['fit_prior']\n",
    "model = MultinomialNB(alpha = alpha)\n",
    "\n",
    "model.fit(X_train,y_train)\n",
    "y_pred = model.predict(X_test)\n",
    "\n",
    "from sklearn.metrics import classification_report, accuracy_score\n",
    "print(f'## Accuracy: {round(accuracy_score(y_test,y_pred),3)*100}%\\n')"
   ]
  },
  {
   "cell_type": "code",
   "execution_count": 38,
   "id": "288a3355",
   "metadata": {},
   "outputs": [
    {
     "name": "stdout",
     "output_type": "stream",
     "text": [
      "              precision    recall  f1-score   support\n",
      "\n",
      "           0       0.99      0.95      0.97       751\n",
      "           1       0.95      0.99      0.97       718\n",
      "\n",
      "    accuracy                           0.97      1469\n",
      "   macro avg       0.97      0.97      0.97      1469\n",
      "weighted avg       0.97      0.97      0.97      1469\n",
      "\n"
     ]
    }
   ],
   "source": [
    "print(classification_report(y_test,y_pred))"
   ]
  },
  {
   "cell_type": "markdown",
   "id": "5f6d703e",
   "metadata": {},
   "source": [
    "#  Example of predictions<a class=\"anchor\" id=\"5\"></a>"
   ]
  },
  {
   "cell_type": "code",
   "execution_count": 70,
   "id": "0f05fbb7",
   "metadata": {},
   "outputs": [
    {
     "name": "stdout",
     "output_type": "stream",
     "text": [
      "Input Email:\n",
      " subject enron methanol meter this is a follow up to the note i gave you on monday preliminary flow data provided by daren please override pop s daily volume presently zero to reflect daily activity you can obtain from gas control this change is needed asap for economics purposes\n",
      "\n",
      "Predicted Label: HAM\n"
     ]
    }
   ],
   "source": [
    "\n",
    "X_input = tfidf_vectorizer.transform([df1[\"text_cleaned\"][0]]).toarray()\n",
    "print(\"Input Email:\\n\", df1[\"text_cleaned\"][0])\n",
    "# Predict using the chosen model\n",
    "prediction = model.predict(X_input)\n",
    "if prediction[0]==1:\n",
    "    print(\"\\nPredicted Label:\", \"SPAM\")\n",
    "else:\n",
    "    print(\"\\nPredicted Label:\", \"HAM\") "
   ]
  },
  {
   "cell_type": "markdown",
   "id": "20b24f19",
   "metadata": {},
   "source": [
    "# END "
   ]
  },
  {
   "cell_type": "code",
   "execution_count": null,
   "id": "c29ffade",
   "metadata": {},
   "outputs": [],
   "source": []
  }
 ],
 "metadata": {
  "kernelspec": {
   "display_name": "Python 3 (ipykernel)",
   "language": "python",
   "name": "python3"
  },
  "language_info": {
   "codemirror_mode": {
    "name": "ipython",
    "version": 3
   },
   "file_extension": ".py",
   "mimetype": "text/x-python",
   "name": "python",
   "nbconvert_exporter": "python",
   "pygments_lexer": "ipython3",
   "version": "3.9.13"
  }
 },
 "nbformat": 4,
 "nbformat_minor": 5
}
